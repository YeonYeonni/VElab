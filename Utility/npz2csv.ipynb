{
 "cells": [
  {
   "cell_type": "code",
   "execution_count": 2,
   "id": "48e64eaf-61d5-4649-a599-37a56448e540",
   "metadata": {},
   "outputs": [],
   "source": [
    "import os\n",
    "import numpy as np\n",
    "import json\n",
    "from json import JSONEncoder"
   ]
  },
  {
   "cell_type": "code",
   "execution_count": 10,
   "id": "34b3221a-a879-44e4-b712-817526783b99",
   "metadata": {},
   "outputs": [
    {
     "name": "stdout",
     "output_type": "stream",
     "text": [
      "mocap_time_length\n",
      "33.0\n"
     ]
    }
   ],
   "source": [
    "# np.set_printoptions(threshold=sys.maxsize)\n",
    "\n",
    "#root_file_path = 'TotalCapture/s3/'\n",
    "# npz_file_name = ['acting1_stageii.npz','acting2_stageii.npz','acting3_stageii.npz',\n",
    "#                  'freestyle1_stageii.npz', 'freestyle2_stageii.npz', 'freestyle3_stageii.npz',\n",
    "#                  'rom1_stageii.npz', 'rom2_stageii.npz', 'rom3_stageii.npz',\n",
    "#                  'walking1_stageii.npz', 'walking2_stageii.npz', 'walking3_stageii.npz']\n",
    "\n",
    "#temp_name = 'walking1_stageii'\n",
    "\n",
    "# npz 파일 경로\n",
    "#npz_file_path = root_file_path + temp_name + '.npz'\n",
    "npz_file_path = \"./AMASS_convert/walk-07-moonwalk-kudo_stageii.npz\"\n",
    "\n",
    "\n",
    "''' s1 actring1~3 키 값 목록\n",
    "gender\n",
    "surface_model_type\n",
    "mocap_frame_rate\n",
    "mocap_time_length\n",
    "markers_latent\n",
    "latent_labels\n",
    "markers_latent_vids\n",
    "trans\n",
    "poses\n",
    "betas\n",
    "num_betas\n",
    "root_orient\n",
    "pose_body\n",
    "pose_hand\n",
    "pose_jaw\n",
    "pose_eye\n",
    "markers\n",
    "labels\n",
    "markers_obs\n",
    "labels_obs\n",
    "markers_sim\n",
    "marker_meta\n",
    "num_markers\n",
    "'''\n",
    "text = \"mocap_time_length\"\n",
    "\n",
    "# npz 파일 열기\n",
    "npz_data = np.load(npz_file_path, allow_pickle=True)\n",
    "\n",
    "a2 = npz_data['root_orient']\n",
    "b2 = npz_data['pose_body']\n",
    "\n",
    "result = np.concatenate((a2,b2),axis=1)\n",
    "\n",
    "lst = npz_data.files\n",
    "# for key in lst: # 파일 목록 불러오기(딕셔너리)\n",
    "#    print(key)\n",
    "#    print(npz_data[key])\n",
    "print(text)\n",
    "print(npz_data[text])\n",
    "# npz_data_len = npz_data[text]\n",
    "# print(len(npz_data_len[0]))\n",
    "\n",
    "gender_data = npz_data['gender']\n",
    "gender_data = np.array([gender_data])\n",
    "surface_data = npz_data['surface_model_type']\n",
    "surface_data = np.array([surface_data])\n",
    "frame_data = npz_data['mocap_frame_rate']\n",
    "frame_data = np.array([frame_data])\n",
    "time_data = npz_data['mocap_time_length']\n",
    "time_data = np.array([time_data])\n",
    "\n",
    "text2 = 'concat_root_body_pose'\n",
    "\n",
    "# .csv 파일 변환\n",
    "np.savetxt('D:/SMPLX-Unity/Assets/SMPLX/data/walk-07-moonwalk-kudo_stageii.csv', result, delimiter=\",\") #, fmt='%s'"
   ]
  },
  {
   "cell_type": "code",
   "execution_count": null,
   "id": "e45e82e2-0745-4a9f-9ea9-4ac0a48d8526",
   "metadata": {},
   "outputs": [],
   "source": []
  }
 ],
 "metadata": {
  "kernelspec": {
   "display_name": "Python 3 (ipykernel)",
   "language": "python",
   "name": "python3"
  },
  "language_info": {
   "codemirror_mode": {
    "name": "ipython",
    "version": 3
   },
   "file_extension": ".py",
   "mimetype": "text/x-python",
   "name": "python",
   "nbconvert_exporter": "python",
   "pygments_lexer": "ipython3",
   "version": "3.11.7"
  }
 },
 "nbformat": 4,
 "nbformat_minor": 5
}
