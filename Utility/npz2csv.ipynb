{
 "cells": [
  {
   "cell_type": "markdown",
   "metadata": {},
   "source": [
    "# NPZ2CSV\n",
    "\n",
    "## 목적\n",
    "* AMASS 파일의 NPZ 파일 형태중에서 Translation, 아바타의 관절별 데이터를 csv 데이터로 변환하여 저장하는 파일\n",
    "* Rotation Vector 형태로 구성되어있음\n",
    "* csv파일[0:3] = 3차원 이동 데이터, [3:] 아바타의 관절 정보"
   ]
  },
  {
   "cell_type": "code",
   "execution_count": 1,
   "metadata": {},
   "outputs": [],
   "source": [
    "import os\n",
    "import numpy as np"
   ]
  },
  {
   "cell_type": "code",
   "execution_count": null,
   "metadata": {},
   "outputs": [
    {
     "name": "stdout",
     "output_type": "stream",
     "text": [
      "1\n",
      "['24_01_poses.npz']\n"
     ]
    }
   ],
   "source": [
    "# 파일 읽어올 폴더 선언\n",
    "root_file_path = '0102/'\n",
    "# root_file_path = 'npz_keyword_sort/jump_npz/'\n",
    " \n",
    "\n",
    "file_name_list = os.listdir(root_file_path)\n",
    "print(len(file_name_list))\n",
    "print(file_name_list)"
   ]
  },
  {
   "cell_type": "code",
   "execution_count": 8,
   "metadata": {},
   "outputs": [],
   "source": [
    "# 저장 폴더 선언\n",
    "# text = \"mocap_time_length\"\n",
    "csv_save_path ='csv/sim_check/'\n"
   ]
  },
  {
   "cell_type": "code",
   "execution_count": 13,
   "metadata": {},
   "outputs": [
    {
     "name": "stdout",
     "output_type": "stream",
     "text": [
      "['trans', 'gender', 'mocap_framerate', 'betas', 'dmpls', 'poses']\n",
      "(201, 3)\n",
      "(201, 156)\n",
      "120.0\n",
      "Subject_17_F_13_poses.npz  저장완료.\n"
     ]
    },
    {
     "ename": "",
     "evalue": "",
     "output_type": "error",
     "traceback": [
      "\u001b[1;31m현재 셀 또는 이전 셀에서 코드를 실행하는 동안 Kernel이 충돌했습니다. \n",
      "\u001b[1;31m셀의 코드를 검토하여 가능한 오류 원인을 식별하세요. \n",
      "\u001b[1;31m자세한 내용을 보려면 <a href='https://aka.ms/vscodeJupyterKernelCrash'>여기</a>를 클릭하세요. \n",
      "\u001b[1;31m자세한 내용은 Jupyter <a href='command:jupyter.viewOutput'>로그</a>를 참조하세요."
     ]
    }
   ],
   "source": [
    "# keys확인한번하기\n",
    "\n",
    "############################################# TO KNOW ############################################\n",
    "# 1. NPZ 파일은 복수의 numpy array들이 한 파일에 키 - 값 형태로 모여있는 파일임. 따라서 파일 구성이 다를 경우 키값을 출력해 뭐가 있는지 확인 후 파일 변환을 진행하기\n",
    "# 2. mocap_framerate는 확인용. 만약 프레임레이트를 맞춰야한다면 csv 파일을 변형해서 동일한 프레임으로 맞추는 스크립트를 따로 짜야함(2025.01.09)\n",
    "# 3. 손의 데이터까지는 필요없을 경우, 적절하게 CSV파일을 슬라이싱하기\n",
    "\n",
    "for file_name in file_name_list:\n",
    "    npz_data = np.load(root_file_path+file_name, allow_pickle=True)\n",
    "    keys = list(npz_data.keys())\n",
    "    print(keys)\n",
    "    a2 = npz_data['trans']\n",
    "    b2 = npz_data['poses']\n",
    "    fr = npz_data['mocap_framerate']\n",
    "\n",
    "    print(a2.shape)\n",
    "    print(b2.shape)\n",
    "    print(fr)\n",
    "\n",
    "    result =np.concatenate((a2,b2),axis=1)\n",
    "    np.savetxt(csv_save_path + file_name[:-10]+ '.csv', result, delimiter=\",\")  # , fmt='%s'\n",
    "    print(file_name,\" 저장완료.\")\n",
    "\n",
    "    # break # 파일 잘 저장되는지 확인하고 싶읗 때 한번만 확인해보고 break로 나가기\n",
    "\n",
    "# npz 파일 열기\n",
    "\n",
    "#*****************smplx버전*************************\n",
    "\n",
    "# for file_name in file_name_list:\n",
    "#     npz_data = np.load(root_file_path+file_name, allow_pickle=True)\n",
    "#     a2 = npz_data['root_orient']\n",
    "#     b2 = npz_data['pose_body']\n",
    "#     result = np.concatenate((a2, b2), axis=1)\n",
    "#     # result = npz_data['poses']\n",
    "#     # print(text)\n",
    "#     # print(npz_data[text])\n",
    "#     # gender_data = npz_data['gender']\n",
    "#     # gender_data = np.array([gender_data])\n",
    "#     # surface_data = npz_data['surface_model_type']\n",
    "#     # surface_data = np.array([surface_data])\n",
    "#     # frame_data = npz_data['mocap_frame_rate']\n",
    "#     # frame_data = np.array([frame_data])\n",
    "#     # time_data = npz_data['mocap_time_length']\n",
    "#     # time_data = np.array([time_data])\n",
    "\n",
    "#     text2 = 'concat_root_body_pose'\n",
    "#     np.savetxt(csv_save_path + file_name + '.csv', result, delimiter=\",\")  # , fmt='%s'\n"
   ]
  }
 ],
 "metadata": {
  "kernelspec": {
   "display_name": "py39",
   "language": "python",
   "name": "python3"
  },
  "language_info": {
   "codemirror_mode": {
    "name": "ipython",
    "version": 3
   },
   "file_extension": ".py",
   "mimetype": "text/x-python",
   "name": "python",
   "nbconvert_exporter": "python",
   "pygments_lexer": "ipython3",
   "version": "3.9.16"
  }
 },
 "nbformat": 4,
 "nbformat_minor": 2
}
