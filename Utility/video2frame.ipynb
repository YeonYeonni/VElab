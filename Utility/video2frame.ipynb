{
 "cells": [
  {
   "cell_type": "code",
   "execution_count": 2,
   "id": "9625c664-7a63-49d2-a337-0d571cd3db67",
   "metadata": {},
   "outputs": [],
   "source": [
    "import cv2\n",
    "import os"
   ]
  },
  {
   "cell_type": "markdown",
   "id": "3b4cf20e-3d16-46da-a2f8-30afba4712cc",
   "metadata": {},
   "source": [
    "## 영상 길이와 상관없이 1초당 60프레임"
   ]
  },
  {
   "cell_type": "code",
   "execution_count": 3,
   "id": "4731dd90-ff6e-489d-bc1a-7c87b70ae28a",
   "metadata": {},
   "outputs": [],
   "source": [
    "def save_frames_from_video(video_path, output_folder):\n",
    "    # 비디오 파일 열기\n",
    "    cap = cv2.VideoCapture(video_path)\n",
    "\n",
    "    # FPS(초당 프레임 수) 얻기\n",
    "    fps = int(cap.get(cv2.CAP_PROP_FPS))\n",
    "    \n",
    "    # 출력 폴더가 없으면 생성\n",
    "    if not os.path.exists(output_folder):\n",
    "        os.makedirs(output_folder)\n",
    "    \n",
    "    frame_count = 0\n",
    "    saved_frame_count = 0\n",
    "\n",
    "    # 60fps를 기준으로 프레임 저장 간격 계산\n",
    "    interval = max(1, fps // 60)\n",
    "    \n",
    "    while True:\n",
    "        # 프레임 읽기\n",
    "        ret, frame = cap.read()\n",
    "\n",
    "        # 프레임이 없으면 반복문 종료\n",
    "        if not ret:\n",
    "            break\n",
    "\n",
    "        # 프레임 저장 조건: 60fps 기준으로 매초 프레임 저장\n",
    "        if frame_count % interval == 0:\n",
    "            frame_filename = os.path.join(output_folder, f'frame_{saved_frame_count:04d}.jpg')\n",
    "            cv2.imwrite(frame_filename, frame)\n",
    "            saved_frame_count += 1\n",
    "\n",
    "        frame_count += 1\n",
    "\n",
    "    # 비디오 파일 닫기\n",
    "    cap.release()\n",
    "    print(f\"총 {saved_frame_count}개의 프레임이 저장되었습니다.\")"
   ]
  },
  {
   "cell_type": "code",
   "execution_count": 4,
   "id": "9336521d-6be8-4b02-abf6-9655cad11de5",
   "metadata": {},
   "outputs": [],
   "source": [
    "# 사용 예시\n",
    "video_path = '../data/tmpd2kznpk_.mp4'  # 비디오 파일 경로\n",
    "output_folder = './framesave/241114/all'      # 프레임을 저장할 폴더"
   ]
  },
  {
   "cell_type": "code",
   "execution_count": 5,
   "id": "4243b2fa-8759-4121-9f45-4fab6a5a6b7c",
   "metadata": {},
   "outputs": [
    {
     "name": "stdout",
     "output_type": "stream",
     "text": [
      "총 275개의 프레임이 저장되었습니다.\n"
     ]
    }
   ],
   "source": [
    "save_frames_from_video(video_path, output_folder)"
   ]
  },
  {
   "cell_type": "markdown",
   "id": "128e3919-d488-447a-9f39-db03a2842696",
   "metadata": {},
   "source": [
    "## 영상 길이가 다를 경우. 동일한 수의 이미지 추출"
   ]
  },
  {
   "cell_type": "code",
   "execution_count": 7,
   "id": "6e7ff91b-de2b-40b9-aa55-6e654dfa6467",
   "metadata": {},
   "outputs": [],
   "source": [
    "def save_equal_number_of_frames(video_path, output_folder, num_frames):\n",
    "    # 비디오 파일 열기\n",
    "    cap = cv2.VideoCapture(video_path)\n",
    "\n",
    "    # 총 프레임 수 얻기\n",
    "    total_frames = int(cap.get(cv2.CAP_PROP_FRAME_COUNT))\n",
    "    \n",
    "    # 출력 폴더가 없으면 생성\n",
    "    if not os.path.exists(output_folder):\n",
    "        os.makedirs(output_folder)\n",
    "    \n",
    "    # 간격 계산\n",
    "    interval = total_frames // num_frames\n",
    "\n",
    "    saved_frame_count = 0\n",
    "\n",
    "    for i in range(num_frames):\n",
    "        # 저장할 프레임 위치 계산\n",
    "        frame_number = i * interval\n",
    "        \n",
    "        # 해당 프레임으로 이동\n",
    "        cap.set(cv2.CAP_PROP_POS_FRAMES, frame_number)\n",
    "        \n",
    "        # 프레임 읽기\n",
    "        ret, frame = cap.read()\n",
    "        \n",
    "        # 프레임 저장\n",
    "        if ret:\n",
    "            frame_filename = os.path.join(output_folder, f'frame_{saved_frame_count:04d}.jpg')\n",
    "            cv2.imwrite(frame_filename, frame)\n",
    "            saved_frame_count += 1\n",
    "        else:\n",
    "            break\n",
    "\n",
    "    # 비디오 파일 닫기\n",
    "    cap.release()\n",
    "    print(f\"총 {saved_frame_count}개의 프레임이 저장되었습니다.\")"
   ]
  },
  {
   "cell_type": "code",
   "execution_count": null,
   "id": "8ce76c13-8205-4bf4-8079-e5ed1156d11b",
   "metadata": {},
   "outputs": [],
   "source": [
    "# 사용 예시\n",
    "video_path = '240821_youtube_clap2.mp4'  # 비디오 파일 경로\n",
    "output_folder = './framesave/240821/youtube2'      # 프레임을 저장할 폴더"
   ]
  },
  {
   "cell_type": "code",
   "execution_count": null,
   "id": "ab91c50b-1ae0-49c6-a509-a4424ba79574",
   "metadata": {},
   "outputs": [],
   "source": [
    "save_equal_number_of_frames(video_path, output_folder, 150)"
   ]
  }
 ],
 "metadata": {
  "kernelspec": {
   "display_name": "Python 3 (ipykernel)",
   "language": "python",
   "name": "python3"
  },
  "language_info": {
   "codemirror_mode": {
    "name": "ipython",
    "version": 3
   },
   "file_extension": ".py",
   "mimetype": "text/x-python",
   "name": "python",
   "nbconvert_exporter": "python",
   "pygments_lexer": "ipython3",
   "version": "3.11.7"
  }
 },
 "nbformat": 4,
 "nbformat_minor": 5
}
