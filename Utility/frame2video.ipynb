{
 "cells": [
  {
   "cell_type": "code",
   "execution_count": null,
   "id": "8092de69-81b7-48cf-8e3f-3dc2bf74de63",
   "metadata": {},
   "outputs": [],
   "source": [
    "import cv2\n",
    "import os"
   ]
  },
  {
   "cell_type": "code",
   "execution_count": null,
   "id": "33096b80-43f5-416f-a25d-c4cb16db0e11",
   "metadata": {},
   "outputs": [],
   "source": [
    "def images_to_video(image_folder, output_video_path, fps):\n",
    "    # 이미지 파일 리스트 가져오기\n",
    "    images = [img for img in os.listdir(image_folder) if img.endswith(\".jpg\") or img.endswith(\".png\")]\n",
    "    images.sort()  # 파일 이름 순으로 정렬 (예: frame_0001.jpg, frame_0002.jpg, ...)\n",
    "\n",
    "    # 첫 번째 이미지로 프레임 크기 설정\n",
    "    first_image_path = os.path.join(image_folder, images[0])\n",
    "    frame = cv2.imread(first_image_path)\n",
    "    height, width, layers = frame.shape\n",
    "\n",
    "    # 비디오 작성기 초기화\n",
    "    fourcc = cv2.VideoWriter_fourcc(*'mp4v')  # 코덱 설정\n",
    "    video = cv2.VideoWriter(output_video_path, fourcc, fps, (width, height))\n",
    "\n",
    "    # 이미지 파일을 프레임으로 변환하여 비디오에 추가\n",
    "    for image in images:\n",
    "        image_path = os.path.join(image_folder, image)\n",
    "        frame = cv2.imread(image_path)\n",
    "        video.write(frame)\n",
    "\n",
    "    # 비디오 작성기 종료\n",
    "    video.release()\n",
    "    print(f\"비디오가 {output_video_path}에 저장되었습니다.\")"
   ]
  },
  {
   "cell_type": "code",
   "execution_count": null,
   "id": "19acb939-50c3-4152-a215-52d71f53f88b",
   "metadata": {},
   "outputs": [],
   "source": [
    "# 사용 예시\n",
    "image_folder = 'output_frames'         # 이미지 파일이 저장된 폴더\n",
    "output_video_path = 'output_video.mp4' # 생성할 비디오 파일 경로\n",
    "fps = 30                               # 초당 프레임 수 (fps)"
   ]
  },
  {
   "cell_type": "code",
   "execution_count": null,
   "id": "be797324-5064-4795-9c2d-e01a6590cb14",
   "metadata": {},
   "outputs": [],
   "source": [
    "images_to_video(image_folder, output_video_path, fps)"
   ]
  },
  {
   "cell_type": "code",
   "execution_count": null,
   "id": "ab8eb079-2dd8-4c74-a792-fe2a53f9f0bc",
   "metadata": {},
   "outputs": [],
   "source": []
  },
  {
   "cell_type": "code",
   "execution_count": null,
   "id": "48333a74-1d29-4832-9074-b2ee50e4b6b6",
   "metadata": {},
   "outputs": [],
   "source": []
  },
  {
   "cell_type": "code",
   "execution_count": null,
   "id": "ca3839bb-26be-4257-b871-b9e13c02af2d",
   "metadata": {},
   "outputs": [],
   "source": []
  }
 ],
 "metadata": {
  "kernelspec": {
   "display_name": "Python 3 (ipykernel)",
   "language": "python",
   "name": "python3"
  },
  "language_info": {
   "codemirror_mode": {
    "name": "ipython",
    "version": 3
   },
   "file_extension": ".py",
   "mimetype": "text/x-python",
   "name": "python",
   "nbconvert_exporter": "python",
   "pygments_lexer": "ipython3",
   "version": "3.11.7"
  }
 },
 "nbformat": 4,
 "nbformat_minor": 5
}
